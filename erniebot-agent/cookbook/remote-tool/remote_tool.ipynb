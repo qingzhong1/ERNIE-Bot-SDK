{
 "cells": [
  {
   "cell_type": "markdown",
   "metadata": {},
   "source": [
    "# 自定义 Remote Tool\n",
    "\n",
    "当前企业中大部分的功能都是通过 API 的形式暴露，Agent如果想要拓展自己的能力边界，就必须基于现有的功能性 API（eg：查天气或查火车票的 api）来进行交互，从而实现更复杂的企业级功能。\n",
    "\n",
    "Agent想与存量功能性 API 进行交互需要有一个标准的交互协议，而 ERNIE-Bot-Agent 中已经提供了 RemoteTool 和 RemoteToolkit 来简化此交互流程，接下来将介绍 如何在 ERNIE-Bot-Agent 中使用 RemoteTool。"
   ]
  },
  {
   "cell_type": "markdown",
   "metadata": {},
   "source": [
    "## 使用 RemoteTool\n",
    "\n",
    "RemoteTool（远程工具）可以是开发者自己提供的，也可以上 AI Studio 的工具中心搜索对应工具，使用代码如下所示：\n",
    "\n",
    "### 开发者提供的RemoteTool\n",
    "\n",
    "在开始本教程前，我们需要先获取[飞桨AI Studio星河社区的access_token](https://aistudio.baidu.com/index/accessToken)并且其配置成环境变量，用于对调用大模型和工具中心进行鉴权。"
   ]
  },
  {
   "cell_type": "code",
   "execution_count": 1,
   "metadata": {},
   "outputs": [],
   "source": [
    "## 添加环境环境变量\n",
    "\n",
    "import os\n",
    "os.environ[\"EB_AGENT_ACCESS_TOKEN\"] = \"<access_token>\"\n",
    "\n",
    "os.environ[\"EB_AGENT_LOGGING_LEVEL\"] = \"info\"\n",
    "\n",
    "from IPython import get_ipython\n",
    "get_ipython().system = os.system"
   ]
  },
  {
   "cell_type": "code",
   "execution_count": null,
   "metadata": {},
   "outputs": [
    {
     "name": "stdout",
     "output_type": "stream",
     "text": [
      "Requirement already satisfied: flask_cors in /Users/wujingjing05/miniconda3/envs/eb-agent/lib/python3.10/site-packages (from -r requirements.txt (line 2)) (4.0.0)\n",
      "Requirement already satisfied: flask[async] in /Users/wujingjing05/miniconda3/envs/eb-agent/lib/python3.10/site-packages (from -r requirements.txt (line 1)) (3.0.0)\n",
      "Requirement already satisfied: Werkzeug>=3.0.0 in /Users/wujingjing05/miniconda3/envs/eb-agent/lib/python3.10/site-packages (from flask[async]->-r requirements.txt (line 1)) (3.0.1)\n",
      "Requirement already satisfied: Jinja2>=3.1.2 in /Users/wujingjing05/miniconda3/envs/eb-agent/lib/python3.10/site-packages (from flask[async]->-r requirements.txt (line 1)) (3.1.2)\n",
      "Requirement already satisfied: itsdangerous>=2.1.2 in /Users/wujingjing05/miniconda3/envs/eb-agent/lib/python3.10/site-packages (from flask[async]->-r requirements.txt (line 1)) (2.1.2)\n",
      "Requirement already satisfied: click>=8.1.3 in /Users/wujingjing05/miniconda3/envs/eb-agent/lib/python3.10/site-packages (from flask[async]->-r requirements.txt (line 1)) (8.1.7)\n",
      "Requirement already satisfied: blinker>=1.6.2 in /Users/wujingjing05/miniconda3/envs/eb-agent/lib/python3.10/site-packages (from flask[async]->-r requirements.txt (line 1)) (1.7.0)\n",
      "Requirement already satisfied: asgiref>=3.2 in /Users/wujingjing05/miniconda3/envs/eb-agent/lib/python3.10/site-packages (from flask[async]->-r requirements.txt (line 1)) (3.7.2)\n",
      "Requirement already satisfied: typing-extensions>=4 in /Users/wujingjing05/miniconda3/envs/eb-agent/lib/python3.10/site-packages (from asgiref>=3.2->flask[async]->-r requirements.txt (line 1)) (4.9.0)\n",
      "Requirement already satisfied: MarkupSafe>=2.0 in /Users/wujingjing05/miniconda3/envs/eb-agent/lib/python3.10/site-packages (from Jinja2>=3.1.2->flask[async]->-r requirements.txt (line 1)) (2.1.3)\n"
     ]
    },
    {
     "data": {
      "text/plain": [
       "0"
      ]
     },
     "execution_count": 2,
     "metadata": {},
     "output_type": "execute_result"
    },
    {
     "name": "stdout",
     "output_type": "stream",
     "text": [
      " * Serving Flask app 'server'\n",
      " * Debug mode: on\n"
     ]
    },
    {
     "name": "stderr",
     "output_type": "stream",
     "text": [
      "WARNING: This is a development server. Do not use it in a production deployment. Use a production WSGI server instead.\n",
      " * Running on http://127.0.0.1:8081\n",
      "Press CTRL+C to quit\n",
      " * Restarting with watchdog (fsevents)\n",
      " * Debugger is active!\n",
      " * Debugger PIN: 239-678-979\n"
     ]
    }
   ],
   "source": [
    "!pip install -r requirements.txt\n",
    "!python server.py &"
   ]
  },
  {
   "cell_type": "code",
   "execution_count": 3,
   "metadata": {},
   "outputs": [],
   "source": [
    "from erniebot_agent.tools.remote_toolkit import RemoteToolkit\n",
    "from erniebot_agent.agents.function_agent import FunctionAgent\n",
    "from erniebot_agent.chat_models import ERNIEBot\n",
    "from erniebot_agent.memory import WholeMemory"
   ]
  },
  {
   "cell_type": "code",
   "execution_count": 4,
   "metadata": {},
   "outputs": [
    {
     "name": "stderr",
     "output_type": "stream",
     "text": [
      "127.0.0.1 - - [29/Dec/2023 17:53:01] \"GET /.well-known/openapi.yaml HTTP/1.1\" 200 -\n",
      "127.0.0.1 - - [29/Dec/2023 17:53:01] \"HEAD /.well-known/examples.yaml HTTP/1.1\" 404 -\n",
      "\u001b[92mINFO - [Run][Start] FunctionAgent is about to start running with input:\n",
      "\u001b[94m添加一个单词“red”到我的单词本\u001b[92m\u001b[0m\n",
      "\u001b[92mINFO - [LLM][Start] ERNIEBot is about to start running with input:\n",
      " role: \u001b[94muser\u001b[92m \n",
      " content: \u001b[94m添加一个单词“red”到我的单词本\u001b[92m \u001b[0m\n",
      "\u001b[92mINFO - [LLM][End] ERNIEBot finished running with output:\n",
      " role: \u001b[93massistant\u001b[92m \n",
      " function_call: \u001b[93m\n",
      "{\n",
      "  \"name\": \"单词本/v1/addWord\",\n",
      "  \"thoughts\": \"用户想要添加一个单词到单词本，我可以调用单词本/v1/addWord工具来实现这个需求。\",\n",
      "  \"arguments\": \"{\\\"word\\\":\\\"red\\\"}\"\n",
      "}\u001b[92m \u001b[0m\n",
      "\u001b[92mINFO - [Tool][Start] \u001b[95mRemoteTool\u001b[92m is about to start running with input:\n",
      "\u001b[95m{\n",
      "  \"word\": \"red\"\n",
      "}\u001b[92m\u001b[0m\n",
      "127.0.0.1 - - [29/Dec/2023 17:53:04] \"POST /add_word?version=v1 HTTP/1.1\" 200 -\n",
      "\u001b[92mINFO - [Tool][End] \u001b[95mRemoteTool\u001b[92m finished running with output:\n",
      "\u001b[95m{\n",
      "  \"message\": \"单词添加成功\",\n",
      "  \"prompt\": \"请避免使用\\\"根据提供的内容、文章、检索结果……\\\"等表述，不要做过多的解释。\"\n",
      "}\u001b[92m\u001b[0m\n",
      "\u001b[92mINFO - [LLM][Start] ERNIEBot is about to start running with input:\n",
      " role: \u001b[95mfunction\u001b[92m \n",
      " name: \u001b[95m单词本/v1/addWord\u001b[92m \n",
      " content: \u001b[95m{\"message\": \"单词添加成功\", \"prompt\": \"请避免使用\\\"根据提供的内容、文章、检索结果……\\\"等表述，不要做过多的解释。\"}\u001b[92m \u001b[0m\n",
      "\u001b[92mINFO - [LLM][End] ERNIEBot finished running with output:\n",
      " role: \u001b[93massistant\u001b[92m \n",
      " content: \u001b[93m当然可以！请注意，这将在现有的单词本中添加一个新单词。\n",
      "\n",
      "我已经为您的单词本添加了单词“red”。\u001b[92m \u001b[0m\n",
      "\u001b[92mINFO - [Run][End] FunctionAgent finished running.\u001b[0m\n"
     ]
    },
    {
     "name": "stdout",
     "output_type": "stream",
     "text": [
      "当然可以！请注意，这将在现有的单词本中添加一个新单词。\n",
      "\n",
      "我已经为您的单词本添加了单词“red”。\n"
     ]
    }
   ],
   "source": [
    "toolkit = RemoteToolkit.from_url(\"http://127.0.0.1:8081\")  # 必须存在：http://xxx.com/.well-known/openapi.yaml\n",
    "llm = ERNIEBot(\"ernie-3.5\")\n",
    "agent = FunctionAgent(llm, tools=toolkit.get_tools(), memory=WholeMemory())\n",
    "result = await agent.run(\"添加一个单词“red”到我的单词本\")\n",
    "print(result.text)"
   ]
  },
  {
   "cell_type": "code",
   "execution_count": 5,
   "metadata": {},
   "outputs": [
    {
     "name": "stderr",
     "output_type": "stream",
     "text": [
      "\u001b[92mINFO - [Run][Start] FunctionAgent is about to start running with input:\n",
      "\u001b[94m单词本当中有哪些单词呢？\u001b[92m\u001b[0m\n",
      "\u001b[92mINFO - [LLM][Start] ERNIEBot is about to start running with input:\n",
      " role: \u001b[94muser\u001b[92m \n",
      " content: \u001b[94m单词本当中有哪些单词呢？\u001b[92m \u001b[0m\n",
      "\u001b[92mINFO - [LLM][End] ERNIEBot finished running with output:\n",
      " role: \u001b[93massistant\u001b[92m \n",
      " function_call: \u001b[93m\n",
      "{\n",
      "  \"name\": \"单词本/v1/getWordbook\",\n",
      "  \"thoughts\": \"用户想要查看他的单词本中的单词。\",\n",
      "  \"arguments\": \"{}\"\n",
      "}\u001b[92m \u001b[0m\n",
      "\u001b[92mINFO - [Tool][Start] \u001b[95mRemoteTool\u001b[92m is about to start running with input:\n",
      "\u001b[95m{}\u001b[92m\u001b[0m\n",
      "127.0.0.1 - - [29/Dec/2023 17:53:10] \"GET /get_wordbook?version=v1 HTTP/1.1\" 200 -\n",
      "\u001b[92mINFO - [Tool][End] \u001b[95mRemoteTool\u001b[92m finished running with output:\n",
      "\u001b[95m{\n",
      "  \"prompt\": \"请避免使用\\\"根据提供的内容、文章、检索结果……\\\"等表述，不要做过多的解释。\",\n",
      "  \"wordbook\": [\n",
      "    \"red\"\n",
      "  ]\n",
      "}\u001b[92m\u001b[0m\n",
      "\u001b[92mINFO - [LLM][Start] ERNIEBot is about to start running with input:\n",
      " role: \u001b[95mfunction\u001b[92m \n",
      " name: \u001b[95m单词本/v1/getWordbook\u001b[92m \n",
      " content: \u001b[95m{\"prompt\": \"请避免使用\\\"根据提供的内容、文章、检索结果……\\\"等表述，不要做过多的解释。\", \"wordbook\": [\"red\"]}\u001b[92m \u001b[0m\n",
      "\u001b[92mINFO - [LLM][End] ERNIEBot finished running with output:\n",
      " role: \u001b[93massistant\u001b[92m \n",
      " content: \u001b[93m您的单词本中现在有以下单词：\n",
      "\n",
      "1. red\n",
      "\n",
      "如果您想添加更多单词，请随时告诉我！\u001b[92m \u001b[0m\n",
      "\u001b[92mINFO - [Run][End] FunctionAgent finished running.\u001b[0m\n"
     ]
    },
    {
     "name": "stdout",
     "output_type": "stream",
     "text": [
      "您的单词本中现在有以下单词：\n",
      "\n",
      "1. red\n",
      "\n",
      "如果您想添加更多单词，请随时告诉我！\n"
     ]
    }
   ],
   "source": [
    "result = await agent.run(\"单词本当中有哪些单词呢？\")\n",
    "print(result.text)"
   ]
  },
  {
   "cell_type": "markdown",
   "metadata": {},
   "source": [
    "以上展示了如何启动一个本地 RemoteTool 并在 ERNIE-Bot-Agent 中调用，使用步骤和 LocalTool 一样。\n",
    "\n",
    "开发者可基于 [./erniebot_agent/examples/remote-tool](../examples/remote-tools/README.md) 目录下的代码进行二次开发，实现自定义模块的业务 Tool。\n",
    "\n",
    "本地 RemoteTool Server 主要包含两部分：\n",
    "\n",
    "1. 本地 restful api 的服务。\n",
    "2. openapi.yaml 描述文件，主要是为了提供 API 的元信息"
   ]
  },
  {
   "cell_type": "markdown",
   "metadata": {},
   "source": [
    "### 使用 AI Studio 远程工具\n",
    "\n",
    "AI Studio 工具中心包含大量稳定服务，开发者可直接调用其工具实现自定义功能，比如以下调用百度翻译的远程工具，"
   ]
  },
  {
   "cell_type": "code",
   "execution_count": 6,
   "metadata": {},
   "outputs": [
    {
     "name": "stderr",
     "output_type": "stream",
     "text": [
      "\u001b[92mINFO - [Run][Start] FunctionAgent is about to start running with input:\n",
      "\u001b[94m“我明天出去玩”这句话合规吗？\u001b[92m\u001b[0m\n",
      "\u001b[92mINFO - [LLM][Start] ERNIEBot is about to start running with input:\n",
      " role: \u001b[94muser\u001b[92m \n",
      " content: \u001b[94m“我明天出去玩”这句话合规吗？\u001b[92m \u001b[0m\n",
      "\u001b[92mINFO - [LLM][End] ERNIEBot finished running with output:\n",
      " role: \u001b[93massistant\u001b[92m \n",
      " function_call: \u001b[93m\n",
      "{\n",
      "  \"name\": \"text-moderation/v1.2/text_moderation\",\n",
      "  \"thoughts\": \"用户想要知道“我明天出去玩”这句话是否合规。这需要审核文本的合规性。\",\n",
      "  \"arguments\": \"{\\\"text\\\":\\\"我明天出去玩\\\"}\"\n",
      "}\u001b[92m \u001b[0m\n",
      "\u001b[92mINFO - [Tool][Start] \u001b[95mRemoteTool\u001b[92m is about to start running with input:\n",
      "\u001b[95m{\n",
      "  \"text\": \"我明天出去玩\"\n",
      "}\u001b[92m\u001b[0m\n",
      "\u001b[92mINFO - [Tool][End] \u001b[95mRemoteTool\u001b[92m finished running with output:\n",
      "\u001b[95m{\n",
      "  \"conclusion\": \"合规\",\n",
      "  \"isHitMd5\": false,\n",
      "  \"conclusionType\": 1\n",
      "}\u001b[92m\u001b[0m\n",
      "\u001b[92mINFO - [LLM][Start] ERNIEBot is about to start running with input:\n",
      " role: \u001b[95mfunction\u001b[92m \n",
      " name: \u001b[95mtext-moderation/v1.2/text_moderation\u001b[92m \n",
      " content: \u001b[95m{\"conclusion\": \"合规\", \"isHitMd5\": false, \"conclusionType\": 1}\u001b[92m \u001b[0m\n",
      "\u001b[92mINFO - [LLM][End] ERNIEBot finished running with output:\n",
      " role: \u001b[93massistant\u001b[92m \n",
      " content: \u001b[93m这句话在语法和表达上并没有问题，是一个简单的主谓宾句。主语是“我”，谓语是“出去玩”，时间状语是“明天”。\n",
      "\n",
      "但是，是否合规还需要考虑具体的语境和背景。例如，如果是在工作时间或学校上课时间说这句话，可...\u001b[92m \u001b[0m\n",
      "\u001b[92mINFO - [Run][End] FunctionAgent finished running.\u001b[0m\n"
     ]
    },
    {
     "name": "stdout",
     "output_type": "stream",
     "text": [
      "这句话在语法和表达上并没有问题，是一个简单的主谓宾句。主语是“我”，谓语是“出去玩”，时间状语是“明天”。\n",
      "\n",
      "但是，是否合规还需要考虑具体的语境和背景。例如，如果是在工作时间或学校上课时间说这句话，可能就不太合适。此外，也要看是否有出行的相关计划和准备，如果只是随便说说而没有实际安排，可能会让人感到不负责任。\n",
      "\n",
      "所以，从语法上看，“我明天出去玩”这句话是合规的，但在实际使用时，还需要考虑具体的语境和背景。\n"
     ]
    }
   ],
   "source": [
    "toolkit = RemoteToolkit.from_aistudio(\"text-moderation\")\n",
    "agent = FunctionAgent(llm=ERNIEBot(model=\"ernie-3.5\"), tools=toolkit.get_tools())\n",
    "result = await agent.run(\"“我明天出去玩”这句话合规吗？\")\n",
    "print(result.text)"
   ]
  },
  {
   "cell_type": "markdown",
   "metadata": {},
   "source": [
    "## RemoteTool vs RemoteToolkit\n",
    "\n",
    "RemoteTool 是单个远程工具，比如添加单词到单词本功能属于单个 RemoteTool，可是：添加单词、删除单词和查询单词这几个功能组装在一起就组成了一个 Toolkit（工具箱），故称为 RemoteToolkit。\n",
    "\n",
    "以下将会统一使用 RemoteTool 来标识远程工具。"
   ]
  },
  {
   "cell_type": "markdown",
   "metadata": {},
   "source": [
    "## RemoteTool 如何与 Agent 交互\n",
    "\n",
    "无论是 LocalTool 还是 RemoteTool 都必须要提供核心的信息：\n",
    "\n",
    "* tool 的描述信息\n",
    "* tool 的输入和输出参数\n",
    "* tool 的执行示例\n",
    "\n",
    "LocalTool 是通过代码定义上述信息，而 RemoteTool 则是通过`openapi.yaml`来定义上述信息，RemoteToolkit 在加载时将会解析`openapi.yaml`中的信息，并在执行时将对应 Tool 的元信息传入 Agent LLM 当中。\n",
    "\n",
    "此外 RemoteTool 的远端调用是通过 http 的方式执行，同时遵照 [OpenAPI 3.0](https://swagger.io/specification/) 的规范发送请求并解析响应。OpenAPI.yaml 文件示例如下所示："
   ]
  },
  {
   "cell_type": "markdown",
   "metadata": {},
   "source": [
    "* openapi.yaml\n",
    "\n",
    "```yaml\n",
    "openapi: 3.0.1\n",
    "info:\n",
    "    title: 单词本\n",
    "    description: 个性化的英文单词本，可以增加、删除和浏览单词本中的单词，背单词时从已有单词本中随机抽取单词生成句子或者段落。\n",
    "    version: \"v1\"\n",
    "servers:\n",
    "    - url: http://127.0.0.1:8081\n",
    "paths:\n",
    "    /add_word:\n",
    "        post:\n",
    "            operationId: addWord\n",
    "            description: 在单词本中添加一个单词\n",
    "            requestBody:\n",
    "                required: true\n",
    "                content:\n",
    "                    application/json:\n",
    "                        schema:\n",
    "                            $ref: \"#/components/schemas/addWord\"\n",
    "            responses:\n",
    "                \"200\":\n",
    "                    description: 单词添加成功\n",
    "                    content:\n",
    "                        application/json:\n",
    "                            schema:\n",
    "                                $ref: \"#/components/schemas/messageResponse\"\n",
    "\n",
    "components:\n",
    "    schemas:\n",
    "        addWord:\n",
    "            type: object\n",
    "            required: [word]\n",
    "            properties:\n",
    "                word:\n",
    "                    type: string\n",
    "                    description: 需要添加到单词本中的一个单词\n",
    "        messageResponse:\n",
    "            type: object\n",
    "            required: [message]\n",
    "            properties:\n",
    "                result:\n",
    "                    type: string\n",
    "                    description: 回复信息\n",
    "```"
   ]
  }
 ],
 "metadata": {
  "kernelspec": {
   "display_name": "paddlenlp",
   "language": "python",
   "name": "python3"
  },
  "language_info": {
   "codemirror_mode": {
    "name": "ipython",
    "version": 3
   },
   "file_extension": ".py",
   "mimetype": "text/x-python",
   "name": "python",
   "nbconvert_exporter": "python",
   "pygments_lexer": "ipython3",
   "version": "3.10.13"
  }
 },
 "nbformat": 4,
 "nbformat_minor": 2
}
